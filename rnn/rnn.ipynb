{
 "cells": [
  {
   "cell_type": "code",
   "execution_count": 5,
   "outputs": [
    {
     "name": "stdout",
     "output_type": "stream",
     "text": [
      "Requirement already satisfied: torchtext in /Users/seokjun/anaconda3/lib/python3.11/site-packages (0.16.1)\r\n",
      "Requirement already satisfied: tqdm in /Users/seokjun/anaconda3/lib/python3.11/site-packages (from torchtext) (4.65.0)\r\n",
      "Requirement already satisfied: requests in /Users/seokjun/anaconda3/lib/python3.11/site-packages (from torchtext) (2.31.0)\r\n",
      "Requirement already satisfied: torch==2.1.1 in /Users/seokjun/anaconda3/lib/python3.11/site-packages (from torchtext) (2.1.1)\r\n",
      "Requirement already satisfied: numpy in /Users/seokjun/anaconda3/lib/python3.11/site-packages (from torchtext) (1.23.5)\r\n",
      "Requirement already satisfied: torchdata==0.7.1 in /Users/seokjun/anaconda3/lib/python3.11/site-packages (from torchtext) (0.7.1)\r\n",
      "Requirement already satisfied: filelock in /Users/seokjun/anaconda3/lib/python3.11/site-packages (from torch==2.1.1->torchtext) (3.9.0)\r\n",
      "Requirement already satisfied: typing-extensions in /Users/seokjun/anaconda3/lib/python3.11/site-packages (from torch==2.1.1->torchtext) (4.7.1)\r\n",
      "Requirement already satisfied: sympy in /Users/seokjun/anaconda3/lib/python3.11/site-packages (from torch==2.1.1->torchtext) (1.11.1)\r\n",
      "Requirement already satisfied: networkx in /Users/seokjun/anaconda3/lib/python3.11/site-packages (from torch==2.1.1->torchtext) (3.1)\r\n",
      "Requirement already satisfied: jinja2 in /Users/seokjun/anaconda3/lib/python3.11/site-packages (from torch==2.1.1->torchtext) (3.1.2)\r\n",
      "Requirement already satisfied: fsspec in /Users/seokjun/anaconda3/lib/python3.11/site-packages (from torch==2.1.1->torchtext) (2023.4.0)\r\n",
      "Requirement already satisfied: urllib3>=1.25 in /Users/seokjun/anaconda3/lib/python3.11/site-packages (from torchdata==0.7.1->torchtext) (1.26.16)\r\n",
      "Requirement already satisfied: charset-normalizer<4,>=2 in /Users/seokjun/anaconda3/lib/python3.11/site-packages (from requests->torchtext) (2.0.4)\r\n",
      "Requirement already satisfied: idna<4,>=2.5 in /Users/seokjun/anaconda3/lib/python3.11/site-packages (from requests->torchtext) (3.4)\r\n",
      "Requirement already satisfied: certifi>=2017.4.17 in /Users/seokjun/anaconda3/lib/python3.11/site-packages (from requests->torchtext) (2023.11.17)\r\n",
      "Requirement already satisfied: MarkupSafe>=2.0 in /Users/seokjun/anaconda3/lib/python3.11/site-packages (from jinja2->torch==2.1.1->torchtext) (2.1.1)\r\n",
      "Requirement already satisfied: mpmath>=0.19 in /Users/seokjun/anaconda3/lib/python3.11/site-packages (from sympy->torch==2.1.1->torchtext) (1.3.0)\r\n"
     ]
    }
   ],
   "source": [
    "!pip install --upgrade torchtext"
   ],
   "metadata": {
    "collapsed": false,
    "ExecuteTime": {
     "end_time": "2023-12-09T00:21:43.771825Z",
     "start_time": "2023-12-09T00:21:41.039915Z"
    }
   },
   "id": "3f0d4ee9c46588fb"
  },
  {
   "cell_type": "code",
   "execution_count": 7,
   "id": "initial_id",
   "metadata": {
    "collapsed": true,
    "ExecuteTime": {
     "end_time": "2023-12-09T00:21:59.806932Z",
     "start_time": "2023-12-09T00:21:59.795204Z"
    }
   },
   "outputs": [
    {
     "ename": "ModuleNotFoundError",
     "evalue": "No module named 'torchtext.legacy'",
     "output_type": "error",
     "traceback": [
      "\u001B[0;31m---------------------------------------------------------------------------\u001B[0m",
      "\u001B[0;31mModuleNotFoundError\u001B[0m                       Traceback (most recent call last)",
      "Cell \u001B[0;32mIn[7], line 4\u001B[0m\n\u001B[1;32m      2\u001B[0m \u001B[38;5;28;01mfrom\u001B[39;00m \u001B[38;5;21;01msklearn\u001B[39;00m\u001B[38;5;21;01m.\u001B[39;00m\u001B[38;5;21;01mmodel_selection\u001B[39;00m \u001B[38;5;28;01mimport\u001B[39;00m train_test_split\n\u001B[1;32m      3\u001B[0m \u001B[38;5;28;01mfrom\u001B[39;00m \u001B[38;5;21;01mkonlpy\u001B[39;00m\u001B[38;5;21;01m.\u001B[39;00m\u001B[38;5;21;01mtag\u001B[39;00m \u001B[38;5;28;01mimport\u001B[39;00m Mecab\n\u001B[0;32m----> 4\u001B[0m \u001B[38;5;28;01mfrom\u001B[39;00m \u001B[38;5;21;01mtorchtext\u001B[39;00m\u001B[38;5;21;01m.\u001B[39;00m\u001B[38;5;21;01mlegacy\u001B[39;00m\u001B[38;5;21;01m.\u001B[39;00m\u001B[38;5;21;01mdata\u001B[39;00m \u001B[38;5;28;01mimport\u001B[39;00m Field, TabularDataset, BucketIterator\n\u001B[1;32m      5\u001B[0m \u001B[38;5;28;01mimport\u001B[39;00m \u001B[38;5;21;01mtorch\u001B[39;00m\u001B[38;5;21;01m.\u001B[39;00m\u001B[38;5;21;01mnn\u001B[39;00m \u001B[38;5;28;01mas\u001B[39;00m \u001B[38;5;21;01mnn\u001B[39;00m\n\u001B[1;32m      6\u001B[0m \u001B[38;5;28;01mimport\u001B[39;00m \u001B[38;5;21;01mtorch\u001B[39;00m\u001B[38;5;21;01m.\u001B[39;00m\u001B[38;5;21;01moptim\u001B[39;00m \u001B[38;5;28;01mas\u001B[39;00m \u001B[38;5;21;01moptim\u001B[39;00m\n",
      "\u001B[0;31mModuleNotFoundError\u001B[0m: No module named 'torchtext.legacy'"
     ]
    }
   ],
   "source": [
    "import pandas as pd\n",
    "from sklearn.model_selection import train_test_split\n",
    "from konlpy.tag import Mecab\n",
    "from torchtext.legacy.data import Field, TabularDataset, BucketIterator\n",
    "import torch.nn as nn\n",
    "import torch.optim as optim\n",
    "import torch"
   ]
  },
  {
   "cell_type": "code",
   "execution_count": null,
   "outputs": [],
   "source": [
    "# 데이터 불러오기\n",
    "posts_tsv = '../search_item_tb.tsv'\n",
    "data = pd.read_csv(posts_tsv, encoding='utf-8', sep='\\t')\n",
    "\n",
    "# 데이터 분리\n",
    "X = data['content']\n",
    "y = data['advertisement']\n",
    "X_train, X_test, y_train, y_test = train_test_split(X, y, test_size=0.3, random_state=100)"
   ],
   "metadata": {
    "collapsed": false,
    "ExecuteTime": {
     "start_time": "2023-12-08T23:09:52.600952Z"
    }
   },
   "id": "36584caa54874daa"
  },
  {
   "cell_type": "code",
   "execution_count": null,
   "outputs": [],
   "source": [
    "# Mecab으로 토큰화\n",
    "mecab = Mecab()\n",
    "X_train = [mecab.morphs(x) for x in X_train]\n",
    "X_test = [mecab.morphs(x) for x in X_test]"
   ],
   "metadata": {
    "collapsed": false,
    "ExecuteTime": {
     "start_time": "2023-12-08T23:09:52.602383Z"
    }
   },
   "id": "4697d2ae41336cc8"
  },
  {
   "cell_type": "code",
   "execution_count": null,
   "outputs": [],
   "source": [
    "# Field 정의\n",
    "TEXT = Field(sequential=True, use_vocab=True, tokenize=mecab.morphs, lower=True, batch_first=True)\n",
    "LABEL = Field(sequential=False, use_vocab=False, preprocessing = lambda x: int(x), is_target=True)\n"
   ],
   "metadata": {
    "collapsed": false,
    "ExecuteTime": {
     "start_time": "2023-12-08T23:09:52.603451Z"
    }
   },
   "id": "a5a9a829dcafa9b7"
  }
 ],
 "metadata": {
  "kernelspec": {
   "display_name": "Python 3",
   "language": "python",
   "name": "python3"
  },
  "language_info": {
   "codemirror_mode": {
    "name": "ipython",
    "version": 2
   },
   "file_extension": ".py",
   "mimetype": "text/x-python",
   "name": "python",
   "nbconvert_exporter": "python",
   "pygments_lexer": "ipython2",
   "version": "2.7.6"
  }
 },
 "nbformat": 4,
 "nbformat_minor": 5
}
