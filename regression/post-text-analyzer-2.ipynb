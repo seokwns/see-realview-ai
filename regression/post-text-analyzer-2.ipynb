{
 "cells": [
  {
   "cell_type": "code",
   "execution_count": 118,
   "outputs": [],
   "source": [
    "import pandas as pd\n",
    "import numpy as np\n",
    "from sklearn.model_selection import train_test_split\n",
    "from sklearn.model_selection import cross_val_score\n",
    "from sklearn.model_selection import GridSearchCV\n",
    "from sklearn.feature_extraction.text import CountVectorizer\n",
    "from sklearn.linear_model import LogisticRegression\n",
    "from sklearn.metrics import accuracy_score\n",
    "import joblib\n",
    "import warnings\n",
    "warnings.filterwarnings(action='ignore')"
   ],
   "metadata": {
    "collapsed": false,
    "ExecuteTime": {
     "end_time": "2023-12-10T22:07:53.552379Z",
     "start_time": "2023-12-10T22:07:53.549072Z"
    }
   },
   "id": "71732860fa323ece"
  },
  {
   "cell_type": "code",
   "execution_count": 119,
   "id": "initial_id",
   "metadata": {
    "collapsed": true,
    "ExecuteTime": {
     "end_time": "2023-12-10T22:07:53.591623Z",
     "start_time": "2023-12-10T22:07:53.550765Z"
    }
   },
   "outputs": [],
   "source": [
    "posts_tsv = '../search_item_tb.tsv'\n",
    "\n",
    "data = pd.read_csv(posts_tsv, encoding='utf-8', sep='\\t')"
   ]
  },
  {
   "cell_type": "code",
   "execution_count": 120,
   "outputs": [
    {
     "name": "stdout",
     "output_type": "stream",
     "text": [
      "(496,) (213,)\n"
     ]
    }
   ],
   "source": [
    "X = data['content']\n",
    "y = data['advertisement']\n",
    "\n",
    "X_train, X_test, y_train, y_test = train_test_split(X, y, test_size=0.3, random_state=100)\n",
    "\n",
    "print(X_train.shape, X_test.shape)"
   ],
   "metadata": {
    "collapsed": false,
    "ExecuteTime": {
     "end_time": "2023-12-10T22:07:53.598565Z",
     "start_time": "2023-12-10T22:07:53.594235Z"
    }
   },
   "id": "a27681c20943390a"
  },
  {
   "cell_type": "markdown",
   "source": [],
   "metadata": {
    "collapsed": false
   },
   "id": "9cf5d85e2afe8b7e"
  },
  {
   "cell_type": "code",
   "execution_count": 121,
   "outputs": [],
   "source": [
    "import re\n",
    "\n",
    "\n",
    "# 불필요한 단어 제거\n",
    "def clean_str(text):\n",
    "    # 영어 대소문자, 숫자, 한글을 제외한 모든 문자 제거\n",
    "    text = re.sub('[^A-Za-z0-9가-힣]', '', text)\n",
    "    # 특정 기호들 제거\n",
    "    text = re.sub('[-=+,#/\\?:^$.@*\\\"※~&%ㆍ!』\\\\‘|\\(\\)\\[\\]\\<\\>`\\'…》]', '', text)\n",
    "    # 개행 문자 제거\n",
    "    text = re.sub('\\n', '', text)\n",
    "    \n",
    "    return text\n",
    "\n",
    "# 맨 뒤의 500자만 학습 진행\n",
    "def text_slice(text):\n",
    "    return text[-200:]\n",
    "\n",
    "\n",
    "# preprocessing - cleaning\n",
    "X_train = X_train.apply(str).apply(clean_str)\n",
    "X_test = X_test.apply(str).apply(clean_str)\n",
    "\n",
    "X_train = X_train.apply(str).apply(text_slice)\n",
    "X_test = X_test.apply(str).apply(text_slice)"
   ],
   "metadata": {
    "collapsed": false,
    "ExecuteTime": {
     "end_time": "2023-12-10T22:07:53.641919Z",
     "start_time": "2023-12-10T22:07:53.604799Z"
    }
   },
   "id": "2bf6b85d85229e65"
  },
  {
   "cell_type": "markdown",
   "source": [
    "## CountVectorizer + LogisticRegression"
   ],
   "metadata": {
    "collapsed": false
   },
   "id": "10fd23ab5f2e1e78"
  },
  {
   "cell_type": "code",
   "execution_count": 122,
   "outputs": [],
   "source": [
    "from konlpy.tag import Mecab\n",
    "\n",
    "\n",
    "mecab = Mecab()\n",
    "\n",
    "def mecab_tokenizer(text):\n",
    "    return mecab.morphs(text)\n",
    "\n",
    "count_vector = CountVectorizer(tokenizer=mecab_tokenizer)\n",
    "count_vector.fit(X_train)\n",
    "\n",
    "X_train_count_vector = count_vector.transform(X_train)\n",
    "X_test_count_vector = count_vector.transform(X_test)"
   ],
   "metadata": {
    "collapsed": false,
    "ExecuteTime": {
     "end_time": "2023-12-10T22:07:53.808591Z",
     "start_time": "2023-12-10T22:07:53.644126Z"
    }
   },
   "id": "8e1c335d945700c6"
  },
  {
   "cell_type": "code",
   "execution_count": 123,
   "outputs": [
    {
     "data": {
      "text/plain": "LogisticRegression(C=4)",
      "text/html": "<style>#sk-container-id-12 {color: black;}#sk-container-id-12 pre{padding: 0;}#sk-container-id-12 div.sk-toggleable {background-color: white;}#sk-container-id-12 label.sk-toggleable__label {cursor: pointer;display: block;width: 100%;margin-bottom: 0;padding: 0.3em;box-sizing: border-box;text-align: center;}#sk-container-id-12 label.sk-toggleable__label-arrow:before {content: \"▸\";float: left;margin-right: 0.25em;color: #696969;}#sk-container-id-12 label.sk-toggleable__label-arrow:hover:before {color: black;}#sk-container-id-12 div.sk-estimator:hover label.sk-toggleable__label-arrow:before {color: black;}#sk-container-id-12 div.sk-toggleable__content {max-height: 0;max-width: 0;overflow: hidden;text-align: left;background-color: #f0f8ff;}#sk-container-id-12 div.sk-toggleable__content pre {margin: 0.2em;color: black;border-radius: 0.25em;background-color: #f0f8ff;}#sk-container-id-12 input.sk-toggleable__control:checked~div.sk-toggleable__content {max-height: 200px;max-width: 100%;overflow: auto;}#sk-container-id-12 input.sk-toggleable__control:checked~label.sk-toggleable__label-arrow:before {content: \"▾\";}#sk-container-id-12 div.sk-estimator input.sk-toggleable__control:checked~label.sk-toggleable__label {background-color: #d4ebff;}#sk-container-id-12 div.sk-label input.sk-toggleable__control:checked~label.sk-toggleable__label {background-color: #d4ebff;}#sk-container-id-12 input.sk-hidden--visually {border: 0;clip: rect(1px 1px 1px 1px);clip: rect(1px, 1px, 1px, 1px);height: 1px;margin: -1px;overflow: hidden;padding: 0;position: absolute;width: 1px;}#sk-container-id-12 div.sk-estimator {font-family: monospace;background-color: #f0f8ff;border: 1px dotted black;border-radius: 0.25em;box-sizing: border-box;margin-bottom: 0.5em;}#sk-container-id-12 div.sk-estimator:hover {background-color: #d4ebff;}#sk-container-id-12 div.sk-parallel-item::after {content: \"\";width: 100%;border-bottom: 1px solid gray;flex-grow: 1;}#sk-container-id-12 div.sk-label:hover label.sk-toggleable__label {background-color: #d4ebff;}#sk-container-id-12 div.sk-serial::before {content: \"\";position: absolute;border-left: 1px solid gray;box-sizing: border-box;top: 0;bottom: 0;left: 50%;z-index: 0;}#sk-container-id-12 div.sk-serial {display: flex;flex-direction: column;align-items: center;background-color: white;padding-right: 0.2em;padding-left: 0.2em;position: relative;}#sk-container-id-12 div.sk-item {position: relative;z-index: 1;}#sk-container-id-12 div.sk-parallel {display: flex;align-items: stretch;justify-content: center;background-color: white;position: relative;}#sk-container-id-12 div.sk-item::before, #sk-container-id-12 div.sk-parallel-item::before {content: \"\";position: absolute;border-left: 1px solid gray;box-sizing: border-box;top: 0;bottom: 0;left: 50%;z-index: -1;}#sk-container-id-12 div.sk-parallel-item {display: flex;flex-direction: column;z-index: 1;position: relative;background-color: white;}#sk-container-id-12 div.sk-parallel-item:first-child::after {align-self: flex-end;width: 50%;}#sk-container-id-12 div.sk-parallel-item:last-child::after {align-self: flex-start;width: 50%;}#sk-container-id-12 div.sk-parallel-item:only-child::after {width: 0;}#sk-container-id-12 div.sk-dashed-wrapped {border: 1px dashed gray;margin: 0 0.4em 0.5em 0.4em;box-sizing: border-box;padding-bottom: 0.4em;background-color: white;}#sk-container-id-12 div.sk-label label {font-family: monospace;font-weight: bold;display: inline-block;line-height: 1.2em;}#sk-container-id-12 div.sk-label-container {text-align: center;}#sk-container-id-12 div.sk-container {/* jupyter's `normalize.less` sets `[hidden] { display: none; }` but bootstrap.min.css set `[hidden] { display: none !important; }` so we also need the `!important` here to be able to override the default hidden behavior on the sphinx rendered scikit-learn.org. See: https://github.com/scikit-learn/scikit-learn/issues/21755 */display: inline-block !important;position: relative;}#sk-container-id-12 div.sk-text-repr-fallback {display: none;}</style><div id=\"sk-container-id-12\" class=\"sk-top-container\"><div class=\"sk-text-repr-fallback\"><pre>LogisticRegression(C=4)</pre><b>In a Jupyter environment, please rerun this cell to show the HTML representation or trust the notebook. <br />On GitHub, the HTML representation is unable to render, please try loading this page with nbviewer.org.</b></div><div class=\"sk-container\" hidden><div class=\"sk-item\"><div class=\"sk-estimator sk-toggleable\"><input class=\"sk-toggleable__control sk-hidden--visually\" id=\"sk-estimator-id-12\" type=\"checkbox\" checked><label for=\"sk-estimator-id-12\" class=\"sk-toggleable__label sk-toggleable__label-arrow\">LogisticRegression</label><div class=\"sk-toggleable__content\"><pre>LogisticRegression(C=4)</pre></div></div></div></div></div>"
     },
     "execution_count": 123,
     "metadata": {},
     "output_type": "execute_result"
    }
   ],
   "source": [
    "logistic_regression = LogisticRegression(C=4)\n",
    "logistic_regression.fit(X_train_count_vector, y_train)"
   ],
   "metadata": {
    "collapsed": false,
    "ExecuteTime": {
     "end_time": "2023-12-10T22:07:53.868675Z",
     "start_time": "2023-12-10T22:07:53.809462Z"
    }
   },
   "id": "a78d438a3bfdb4dc"
  },
  {
   "cell_type": "code",
   "execution_count": 124,
   "outputs": [
    {
     "name": "stdout",
     "output_type": "stream",
     "text": [
      "Lostistic Regression\n",
      "test set 정확도 : 0.7511737089201878\n"
     ]
    }
   ],
   "source": [
    "prediction = logistic_regression.predict(X_test_count_vector)\n",
    "accuracy = accuracy_score(y_test, prediction)\n",
    "print(\"Lostistic Regression\")\n",
    "print(\"test set 정확도 :\", accuracy)"
   ],
   "metadata": {
    "collapsed": false,
    "ExecuteTime": {
     "end_time": "2023-12-10T22:07:53.871732Z",
     "start_time": "2023-12-10T22:07:53.866986Z"
    }
   },
   "id": "990ce9f8ebf48218"
  },
  {
   "cell_type": "code",
   "execution_count": 125,
   "outputs": [
    {
     "name": "stdout",
     "output_type": "stream",
     "text": [
      "cross-validation 평균 정확도 : 0.6975353535353535\n"
     ]
    }
   ],
   "source": [
    "scores = cross_val_score(logistic_regression, X_train_count_vector, y_train, cv=5)\n",
    "print(\"cross-validation 평균 정확도 :\", np.mean(scores))"
   ],
   "metadata": {
    "collapsed": false,
    "ExecuteTime": {
     "end_time": "2023-12-10T22:07:54.132726Z",
     "start_time": "2023-12-10T22:07:53.870575Z"
    }
   },
   "id": "18529bf18201c5a0"
  },
  {
   "cell_type": "code",
   "execution_count": 126,
   "outputs": [
    {
     "name": "stdout",
     "output_type": "stream",
     "text": [
      "Grid Search CV 정확도 : 0.6975353535353535\n",
      "Grid Search CV 최적 매개변수 : LogisticRegression(C=4)\n"
     ]
    }
   ],
   "source": [
    "params = {\n",
    "    'C' : [0.001, 0.01, 0.1, 1, 2, 4, 8, 16, 32, 64, 128],\n",
    "}\n",
    "\n",
    "gscv_logistic_regression = GridSearchCV(estimator=logistic_regression, param_grid=params, scoring='accuracy', cv=5)\n",
    "gscv_logistic_regression.fit(X_train_count_vector, y_train)\n",
    "print(\"Grid Search CV 정확도 :\", gscv_logistic_regression.best_score_)\n",
    "print(\"Grid Search CV 최적 매개변수 :\", gscv_logistic_regression.best_estimator_)"
   ],
   "metadata": {
    "collapsed": false,
    "ExecuteTime": {
     "end_time": "2023-12-10T22:07:56.563170Z",
     "start_time": "2023-12-10T22:07:54.132467Z"
    }
   },
   "id": "c611938a863a100e"
  },
  {
   "cell_type": "code",
   "execution_count": 127,
   "outputs": [
    {
     "data": {
      "text/plain": "['./count_vectorizer.pkl']"
     },
     "execution_count": 127,
     "metadata": {},
     "output_type": "execute_result"
    }
   ],
   "source": [
    "# 모델 저장하기\n",
    "joblib.dump(logistic_regression, './logistic_regression.pkl')\n",
    "joblib.dump(count_vector, './count_vectorizer.pkl')"
   ],
   "metadata": {
    "collapsed": false,
    "ExecuteTime": {
     "end_time": "2023-12-10T22:07:56.575876Z",
     "start_time": "2023-12-10T22:07:56.561273Z"
    }
   },
   "id": "3442ff973ed1a98e"
  }
 ],
 "metadata": {
  "kernelspec": {
   "display_name": "Python 3",
   "language": "python",
   "name": "python3"
  },
  "language_info": {
   "codemirror_mode": {
    "name": "ipython",
    "version": 2
   },
   "file_extension": ".py",
   "mimetype": "text/x-python",
   "name": "python",
   "nbconvert_exporter": "python",
   "pygments_lexer": "ipython2",
   "version": "2.7.6"
  }
 },
 "nbformat": 4,
 "nbformat_minor": 5
}
